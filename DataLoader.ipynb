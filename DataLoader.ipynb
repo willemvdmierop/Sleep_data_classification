{
 "cells": [
  {
   "cell_type": "code",
   "execution_count": 4,
   "metadata": {
    "colab": {
     "base_uri": "https://localhost:8080/",
     "height": 71
    },
    "colab_type": "code",
    "id": "JeE2yvCh0Fjb",
    "outputId": "9d70048f-a8c4-40eb-d4c1-1d91b6953769"
   },
   "outputs": [],
   "source": [
    "from sklearn.neural_network import MLPClassifier\n",
    "import os\n",
    "import pandas as pd\n",
    "import numpy as np\n",
    "from sklearn.model_selection import train_test_split\n",
    "from sklearn.linear_model import Perceptron\n",
    "from sklearn.tree import DecisionTreeClassifier\n",
    "from sklearn.metrics import confusion_matrix\n",
    "import matplotlib.pyplot as plt\n",
    "from sklearn.metrics import accuracy_score\n",
    "from sklearn.utils import shuffle\n",
    "from sklearn.model_selection import KFold\n",
    "from sklearn import preprocessing\n",
    "from imblearn.over_sampling import SMOTE  \n",
    "from sklearn.ensemble import RandomForestClassifier\n",
    "from sklearn.preprocessing import LabelEncoder\n",
    "from sklearn.model_selection import cross_validate\n",
    "from sklearn.metrics import classification_report\n",
    "import math\n",
    "import matplotlib.pyplot as plt\n",
    "from matplotlib import style\n",
    "style.use('fivethirtyeight')"
   ]
  },
  {
   "cell_type": "code",
   "execution_count": null,
   "metadata": {
    "colab": {},
    "colab_type": "code",
    "id": "cCNVrUUa0Fjj",
    "outputId": "a5fd333d-a30c-4fc2-9139-d609a3de66e5"
   },
   "outputs": [],
   "source": [
    "\n",
    "\n",
    "patient_all = []\n",
    "\n",
    "for i in range(31):\n",
    "    #path = \"/Users/Chloe/City, University of London/PG-Lopez, Damien - INM701/MHCD/motion\"\n",
    "    #path = \"/Users/damie/OneDrive - City, University of London/INM701/MHCD/motion\"\n",
    "    path = \"/Users/willemvandemierop/Documents/Master AI/Introduction to AI/Coursework/MHCD/motion\"\n",
    "    filename_read = os.path.join(path, f\"A{i}.txt\")\n",
    "    patient_temp_accel = pd.read_csv(filename_read, sep=\" \", header=None, names=[\"time\", \"x\", \"y\", \"z\"])\n",
    "    # remove negative time\n",
    "    # patient_temp_accel = patient_temp_accel.drop(patient_temp_accel[patient_temp_accel.time < 0].index)\n",
    "    # round time to nearest whole number\n",
    "    patient_temp_accel['time'] = patient_temp_accel['time'].round(decimals=-1)\n",
    "    # only every 30s\n",
    "    # patient_temp_accel = patient_temp_accel[::1500]\n",
    "    patient_temp_accel = patient_temp_accel.loc[patient_temp_accel['time'] % 30 == 0]\n",
    "    # remove duplicates, keep first\n",
    "    patient_temp_accel = patient_temp_accel.drop_duplicates(subset='time', keep='first', inplace=False)\n",
    "\n",
    "    #path = \"/Users/Chloe/City, University of London/PG-Lopez, Damien - INM701/MHCD/heart_rate\"\n",
    "    #path = \"/Users/damie/OneDrive - City, University of London/INM701/MHCD/heart_rate\"\n",
    "    path = \"/Users/willemvandemierop/Documents/Master AI/Introduction to AI/Coursework/MHCD/heart_rate\"\n",
    "    filename_read = os.path.join(path, f\"H{i}.txt\")\n",
    "    patient_temp_heartbeat = pd.read_csv(filename_read, sep=\",\", header=None, names=[\"time\", \"heartbeat\"])\n",
    "    patient_temp_heartbeat['time'] = patient_temp_heartbeat['time'].round(decimals=-1)\n",
    "    # patient_temp_heartbeat = patient_temp_heartbeat.drop(patient_temp_heartbeat[patient_temp_heartbeat.time < 0].index)\n",
    "    patient_temp_heartbeat = patient_temp_heartbeat.loc[patient_temp_heartbeat['time'] % 30 == 0]\n",
    "    patient_temp_heartbeat = patient_temp_heartbeat.drop_duplicates(subset='time', keep='first', inplace=False)\n",
    "\n",
    "    #path = \"/Users/Chloe/City, University of London/PG-Lopez, Damien - INM701/MHCD/labels\"\n",
    "    #path = \"/Users/damie/OneDrive - City, University of London/INM701/MHCD/labels\"\n",
    "    path =  \"/Users/willemvandemierop/Documents/Master AI/Introduction to AI/Coursework/MHCD/labels\"\n",
    "    filename_read = os.path.join(path, f\"L{i}.txt\")\n",
    "    patient_temp_label = pd.read_csv(filename_read, sep=\" \", header=None, names=[\"time\", \"label\"])\n",
    "\n",
    "    # merge dataframes\n",
    "    patient_temp_all = pd.merge(pd.merge(patient_temp_accel, patient_temp_heartbeat, on='time'), patient_temp_label,\n",
    "                                on='time')\n",
    "    #print(patient_temp_all)\n",
    "    patient_all.append(patient_temp_all)\n",
    "\n",
    "print(\"\\n Data correctly loaded\\n \")"
   ]
  },
  {
   "cell_type": "code",
   "execution_count": null,
   "metadata": {
    "colab": {
     "base_uri": "https://localhost:8080/",
     "height": 181
    },
    "colab_type": "code",
    "id": "Ojj7rSI70Y4a",
    "outputId": "b0da7ec8-e0ce-4c66-baaf-e91b4d1b3c62"
   },
   "outputs": [],
   "source": [
    "PAL = pd.concat(patient_all)\n",
    "print(\"All patients\\n\", PAL.head())\n",
    "export_csv = PAL.to_csv (r'/Users/willemvandemierop/Documents/Master AI/Introduction to AI/Coursework/All_patients_correct2.csv', index = None, header=True)"
   ]
  },
  {
   "cell_type": "code",
   "execution_count": 5,
   "metadata": {},
   "outputs": [
    {
     "name": "stdout",
     "output_type": "stream",
     "text": [
      "\n",
      " Data correctly loaded\n",
      " \n"
     ]
    }
   ],
   "source": [
    "#for section 'Adding an extra feature to the classifier'\n",
    "\n",
    "def circadian(time):\n",
    "    return np.cos((math.pi*2/24)*(time/60/60))\n",
    "\n",
    "patient_all_circadian = []\n",
    "\n",
    "for i in range(31):\n",
    "    path = \"/Users/Chloe/City, University of London/PG-Lopez, Damien - INM701/MHCD/motion\"\n",
    "    #path = \"/Users/damie/OneDrive - City, University of London/INM701/MHCD/motion\"\n",
    "    #path = \"/Users/willemvandemierop/Documents/Master AI/Introduction to AI/Coursework/MHCD/motion\"\n",
    "    filename_read = os.path.join(path, f\"A{i}.txt\")\n",
    "    patient_temp_accel = pd.read_csv(filename_read, sep=\" \", header=None, names=[\"time\", \"x\", \"y\", \"z\"])\n",
    "    # remove negative time\n",
    "    patient_temp_accel = patient_temp_accel.drop(patient_temp_accel[patient_temp_accel.time < 0].index)\n",
    "    # round time to nearest whole number\n",
    "    patient_temp_accel['time'] = patient_temp_accel['time'].round(decimals=-1)\n",
    "    # only every 30s\n",
    "    patient_temp_accel = patient_temp_accel.loc[patient_temp_accel['time'] % 30 == 0]\n",
    "    # remove duplicates, keep first\n",
    "    patient_temp_accel = patient_temp_accel.drop_duplicates(subset='time', keep='first', inplace=False)\n",
    "\n",
    "    path = \"/Users/Chloe/City, University of London/PG-Lopez, Damien - INM701/MHCD/heart_rate\"\n",
    "    #path = \"/Users/damie/OneDrive - City, University of London/INM701/MHCD/heart_rate\"\n",
    "    #path = \"/Users/willemvandemierop/Documents/Master AI/Introduction to AI/Coursework/MHCD/heart_rate\"\n",
    "    filename_read = os.path.join(path, f\"H{i}.txt\")\n",
    "    patient_temp_heartbeat = pd.read_csv(filename_read, sep=\",\", header=None, names=[\"time\", \"heartbeat\"])\n",
    "    patient_temp_heartbeat['time'] = patient_temp_heartbeat['time'].round(decimals=-1)\n",
    "    patient_temp_heartbeat = patient_temp_heartbeat.drop(patient_temp_heartbeat[patient_temp_heartbeat.time < 0].index)\n",
    "    patient_temp_heartbeat = patient_temp_heartbeat.loc[patient_temp_heartbeat['time'] % 30 == 0]\n",
    "    patient_temp_heartbeat = patient_temp_heartbeat.drop_duplicates(subset='time', keep='first', inplace=False)\n",
    "\n",
    "    path = \"/Users/Chloe/City, University of London/PG-Lopez, Damien - INM701/MHCD/labels\"\n",
    "    #path = \"/Users/damie/OneDrive - City, University of London/INM701/MHCD/labels\"\n",
    "    #path =  \"/Users/willemvandemierop/Documents/Master AI/Introduction to AI/Coursework/MHCD/labels\"\n",
    "    filename_read = os.path.join(path, f\"L{i}.txt\")\n",
    "    patient_temp_label = pd.read_csv(filename_read, sep=\" \", header=None, names=[\"time\", \"label\"])\n",
    "\n",
    "    # merge dataframes\n",
    "    patient_temp_all = pd.merge(pd.merge(patient_temp_accel, patient_temp_heartbeat, on='time'), patient_temp_label,\n",
    "                                on='time')\n",
    "    \n",
    "    #add cos func of time \n",
    "    patient_temp_all.insert(6,'circadian', circadian(patient_temp_all['time']))\n",
    "    \n",
    "    #print(patient_temp_all)\n",
    "    patient_all_circadian.append(patient_temp_all)\n",
    "\n",
    "print(\"\\n Data correctly loaded\\n \")"
   ]
  },
  {
   "cell_type": "code",
   "execution_count": null,
   "metadata": {},
   "outputs": [],
   "source": [
    "PAL = pd.concat(patient_all_circadian)\n",
    "print(\"All patients\\n\", PAL.head())\n",
    "export_csv = PAL.to_csv (r'/Users/Chloe/Desktop/AI MSc/Intro to AI/Coursework/All_patients_correct_circadian.csv', index = None, header=True)\n"
   ]
  }
 ],
 "metadata": {
  "colab": {
   "name": "DataLoader.ipynb",
   "provenance": []
  },
  "kernelspec": {
   "display_name": "Python 3",
   "language": "python",
   "name": "python3"
  },
  "language_info": {
   "codemirror_mode": {
    "name": "ipython",
    "version": 3
   },
   "file_extension": ".py",
   "mimetype": "text/x-python",
   "name": "python",
   "nbconvert_exporter": "python",
   "pygments_lexer": "ipython3",
   "version": "3.7.4"
  }
 },
 "nbformat": 4,
 "nbformat_minor": 1
}
